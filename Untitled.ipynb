{
 "cells": [
  {
   "cell_type": "code",
   "execution_count": 6,
   "id": "2639cb3f-169e-43ab-8bb8-bb0be35331eb",
   "metadata": {},
   "outputs": [],
   "source": [
    "import numpy as np\n",
    "import pandas as pd\n",
    "import sklearn\n",
    "from sklearn.impute import SimpleImputer\n",
    "from sklearn.preprocessing import OneHotEncoder, LabelEncoder\n",
    "from sklearn.compose import ColumnTransformer\n",
    "from sklearn.model_selection import train_test_split\n",
    "from sklearn.preprocessing import StandardScaler"
   ]
  },
  {
   "cell_type": "code",
   "execution_count": 7,
   "id": "e32e85c2-32de-4a43-8be3-1b1eac0fa412",
   "metadata": {},
   "outputs": [
    {
     "name": "stdout",
     "output_type": "stream",
     "text": [
      "[[ 7.   2.   3. ]\n",
      " [ 4.   3.5  6. ]\n",
      " [10.   3.5  9. ]]\n"
     ]
    }
   ],
   "source": [
    "# Learning SimpleImputer\n",
    "imp_mean = SimpleImputer(missing_values=np.nan, strategy='mean')\n",
    "imp_mean.fit([[7, 2, 3], [4, np.nan, 6], [10, 5, 9]])\n",
    "X = [[np.nan, 2, 3], [4, np.nan, 6], [10, np.nan, 9]]\n",
    "print(imp_mean.transform(X))"
   ]
  },
  {
   "cell_type": "code",
   "execution_count": 8,
   "id": "13ba75ce-b001-4a30-a585-7da8685e98ee",
   "metadata": {},
   "outputs": [
    {
     "name": "stdout",
     "output_type": "stream",
     "text": [
      "Sklearn version is 1.3.2\n"
     ]
    }
   ],
   "source": [
    "# Checking sklearn version\n",
    "print(\"Sklearn version is {}\".format(sklearn.__version__))"
   ]
  },
  {
   "cell_type": "code",
   "execution_count": 11,
   "id": "f96d1993-5a10-4b1c-9ee1-3910841981c9",
   "metadata": {},
   "outputs": [
    {
     "name": "stdout",
     "output_type": "stream",
     "text": [
      "[array(['Female', 'Male'], dtype=object), array([1, 2, 3], dtype=object)]\n",
      "[[1. 0. 1. 0. 0.]\n",
      " [0. 1. 0. 0. 0.]]\n",
      "[['Male' 1]\n",
      " [None 2]]\n",
      "['gender_Female' 'gender_Male' 'group_1' 'group_2' 'group_3']\n"
     ]
    }
   ],
   "source": [
    "# OneHotEncoder example\n",
    "enc = OneHotEncoder(handle_unknown='ignore')\n",
    "X = [['Male', 1], ['Female', 3], ['Female', 2]]\n",
    "enc.fit(X)\n",
    "print(enc.categories_)\n",
    "print(enc.transform([['Female', 1], ['Male', 4]]).toarray())\n",
    "print(enc.inverse_transform([[0, 1, 1, 0, 0], [0, 0, 0, 1, 0]]))\n",
    "feature_names = enc.get_feature_names_out(['gender', 'group'])\n",
    "print(feature_names)"
   ]
  },
  {
   "cell_type": "code",
   "execution_count": 12,
   "id": "bfca7509-85f5-4b66-8f3c-cfa084591fa4",
   "metadata": {},
   "outputs": [],
   "source": [
    "# Loading dataset from CSV file\n",
    "dataset = pd.read_csv('../datasets/Data.csv')\n",
    "X = dataset.iloc[:, :-1].values  # All columns except the last one\n",
    "Y = dataset.iloc[:, 3].values     # Last column"
   ]
  },
  {
   "cell_type": "code",
   "execution_count": 13,
   "id": "15582f98-a863-4b65-8c4e-36483900c330",
   "metadata": {},
   "outputs": [],
   "source": [
    "# Handling missing data using SimpleImputer\n",
    "imputer = SimpleImputer(missing_values=np.nan, strategy=\"mean\")\n",
    "imputer = imputer.fit(X[:, 1:3])\n",
    "X[:, 1:3] = imputer.transform(X[:, 1:3])"
   ]
  },
  {
   "cell_type": "code",
   "execution_count": 14,
   "id": "c98e550f-584c-4901-a6d8-09a6b48c2db7",
   "metadata": {},
   "outputs": [],
   "source": [
    "# Encoding categorical data\n",
    "ct = ColumnTransformer([(\"\", OneHotEncoder(), [0])], remainder='passthrough')\n",
    "X = ct.fit_transform(X)\n",
    "labelencoder_Y = LabelEncoder()\n",
    "Y = labelencoder_Y.fit_transform(Y)"
   ]
  },
  {
   "cell_type": "code",
   "execution_count": 15,
   "id": "e613e816-fc12-4852-ac67-54b8c42954f8",
   "metadata": {},
   "outputs": [],
   "source": [
    "# Splitting the dataset into training and test sets\n",
    "X_train, X_test, Y_train, Y_test = train_test_split(X, Y, test_size=0.2, random_state=0)"
   ]
  },
  {
   "cell_type": "code",
   "execution_count": 16,
   "id": "748d8521-38c3-4389-b4de-11068010c351",
   "metadata": {},
   "outputs": [],
   "source": [
    "# Feature Scaling\n",
    "sc_X = StandardScaler()\n",
    "X_train = sc_X.fit_transform(X_train)\n",
    "X_test = sc_X.transform(X_test)"
   ]
  },
  {
   "cell_type": "code",
   "execution_count": null,
   "id": "af45981a-298f-4b6e-a88b-6117c2ebae71",
   "metadata": {},
   "outputs": [],
   "source": []
  }
 ],
 "metadata": {
  "kernelspec": {
   "display_name": "Python 3 (ipykernel)",
   "language": "python",
   "name": "python3"
  },
  "language_info": {
   "codemirror_mode": {
    "name": "ipython",
    "version": 3
   },
   "file_extension": ".py",
   "mimetype": "text/x-python",
   "name": "python",
   "nbconvert_exporter": "python",
   "pygments_lexer": "ipython3",
   "version": "3.12.0"
  }
 },
 "nbformat": 4,
 "nbformat_minor": 5
}
